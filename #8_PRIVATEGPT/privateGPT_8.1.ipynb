{
 "cells": [
  {
   "cell_type": "markdown",
   "metadata": {},
   "source": [
    "# 8.1 HuggingFaceHub"
   ]
  },
  {
   "cell_type": "code",
   "execution_count": 10,
   "metadata": {},
   "outputs": [
    {
     "data": {
      "text/plain": [
       "'A potato is a starchy, tuberous crop that is native to South America. It is a major food source worldwide, known for its versatility in cooking. Potatoes can be boiled, baked, fried, or mashed, and they can also be used to make a variety of dishes such as French fries, potato chips, potato salad, and more. Potatoes are rich in carbohydrates, fiber, and vitamins, particularly vitamin C and B6. They are grown in many parts of the world and are an important crop in agriculture.'"
      ]
     },
     "execution_count": 10,
     "metadata": {},
     "output_type": "execute_result"
    }
   ],
   "source": [
    "from langchain.llms import HuggingFaceEndpoint\n",
    "from langchain.prompts import PromptTemplate\n",
    "\n",
    "prompt = PromptTemplate.from_template(\"[INST]What is the meaning of {word}[INST]\")\n",
    "\n",
    "llm = HuggingFaceEndpoint(\n",
    "    endpoint_url=\"https://api-inference.huggingface.co/models/mistralai/Mistral-7B-Instruct-v0.3\",\n",
    "    task=\"text-generation\",\n",
    "    model_kwargs={\n",
    "        \"max_length\": 250,\n",
    "        \"temperature\": 0.5\n",
    "    }\n",
    ")\n",
    "\n",
    "chain = prompt | llm\n",
    "\n",
    "chain.invoke({\"word\":\"potato\"})"
   ]
  },
  {
   "cell_type": "markdown",
   "metadata": {},
   "source": [
    "# HuggingFace 모델 사용하기 📚\n",
    "\n",
    "## 1. 기본 설정\n",
    "\n",
    "먼저 필요한 도구들을 가져옵니다:\n",
    "```python\n",
    "from langchain.llms import HuggingFaceEndpoint\n",
    "from langchain.prompts import PromptTemplate\n",
    "```\n",
    "\n",
    "## 2. 프롬프트 만들기\n",
    "\n",
    "질문 템플릿을 만듭니다:\n",
    "```python\n",
    "prompt = PromptTemplate.from_template(\"What is the meaning of {word}\")\n",
    "```\n",
    "- 이렇게 하면 나중에 {word} 부분에 원하는 단어를 넣을 수 있어요!\n",
    "\n",
    "## 3. 모델 설정하기\n",
    "\n",
    "HuggingFace의 AI 모델을 사용하도록 설정합니다:\n",
    "```python\n",
    "llm = HuggingFaceEndpoint(\n",
    "    endpoint_url=\"https://api-inference.huggingface.co/models/mistralai/Mistral-7B-Instruct-v0.3\",\n",
    "    task=\"text-generation\",\n",
    "    model_kwargs={\n",
    "        \"max_length\": 250,\n",
    "        \"temperature\": 0.5\n",
    "    }\n",
    ")\n",
    "```\n",
    "\n",
    "여기서 각 설정의 의미는:\n",
    "- `endpoint_url`: 사용할 AI 모델의 주소\n",
    "- `task`: 모델이 할 일 (여기서는 텍스트 생성)\n",
    "- `max_length`: 답변의 최대 길이\n",
    "- `temperature`: 답변의 창의성 정도 (0.5는 중간 정도)\n",
    "\n",
    "## 4. 체인 만들기\n",
    "\n",
    "프롬프트와 모델을 연결합니다:\n",
    "```python\n",
    "chain = prompt | llm\n",
    "```\n",
    "- `|` 기호로 프롬프트와 모델을 연결해서 하나의 체인을 만들어요\n",
    "\n",
    "## 5. 실행하기\n",
    "\n",
    "만든 체인을 실행합니다:\n",
    "```python\n",
    "result = chain.invoke({\"word\": \"potato\"})\n",
    "```\n",
    "- `word`에 \"potato\"를 넣어서 감자의 의미를 물어보는 거예요!\n",
    "\n",
    "## 주의사항 ⚠️\n",
    "\n",
    "1. **인터넷 연결 필요**\n",
    "   - 이 코드는 인터넷이 있어야 작동해요\n",
    "\n",
    "2. **API 키 필요**\n",
    "   - HuggingFace 계정과 API 키가 필요할 수 있어요\n",
    "\n",
    "3. **데이터 보안**\n",
    "   - 모든 질문이 HuggingFace 서버로 전송되니 개인정보는 조심해야 해요\n",
    "\n",
    "## 이렇게 하면 뭐가 좋아요? 🎉\n",
    "\n",
    "1. 무료로 강력한 AI 모델을 사용할 수 있어요\n",
    "2. 컴퓨터에 큰 모델을 설치할 필요가 없어요\n",
    "3. 다양한 AI 모델을 쉽게 테스트해볼 수 있어요\n",
    "\n",
    "## 팁 💡\n",
    "\n",
    "- 다른 모델도 시도해보세요\n",
    "- temperature 값을 조절해보세요 (0에 가까우면 정확한 답변, 1에 가까우면 창의적인 답변)\n",
    "- 다양한 질문 형식을 실험해보세요\n",
    "\n",
    "이제 여러분도 HuggingFace의 AI 모델을 사용할 수 있어요! 😊\n"
   ]
  }
 ],
 "metadata": {
  "kernelspec": {
   "display_name": "env",
   "language": "python",
   "name": "python3"
  },
  "language_info": {
   "codemirror_mode": {
    "name": "ipython",
    "version": 3
   },
   "file_extension": ".py",
   "mimetype": "text/x-python",
   "name": "python",
   "nbconvert_exporter": "python",
   "pygments_lexer": "ipython3",
   "version": "3.11.11"
  }
 },
 "nbformat": 4,
 "nbformat_minor": 2
}
