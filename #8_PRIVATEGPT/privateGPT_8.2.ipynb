{
 "cells": [
  {
   "cell_type": "markdown",
   "metadata": {},
   "source": [
    "# 8.2 HuggingFacePipeline"
   ]
  },
  {
   "cell_type": "code",
   "execution_count": 3,
   "metadata": {},
   "outputs": [
    {
     "name": "stderr",
     "output_type": "stream",
     "text": [
      "Using pad_token, but it is not set yet.\n",
      "Setting `pad_token_id` to `eos_token_id`:50256 for open-end generation.\n"
     ]
    },
    {
     "data": {
      "text/plain": [
       "\"iced plant and, unlike tomatoes, can live in soils up to 4 feet deep, although they should be kept warm by hand, as some people experience a temporary frost. A tomato, like many other plants, is naturally more stable and will continue to grow through its whole life and thrive if watered properly, according to University of Missouri researcher Elizabeth L. Gansman-Flower.\\n\\nWhat's so special about tomatoes?\\n\\nThe variety of tomato is only found in America. Most of the seeds and seeds are grown locally, and the ones that are grown are usually found in our own city. The best news for people is that we've now seen a lot of tomatoes grow. What is so special about tomato will usually come down to\""
      ]
     },
     "execution_count": 3,
     "metadata": {},
     "output_type": "execute_result"
    }
   ],
   "source": [
    "from langchain.llms. huggingface_pipeline import HuggingFacePipeline\n",
    "from langchain.prompts import PromptTemplate\n",
    "\n",
    "prompt = PromptTemplate.from_template(\"A {word} is a \")\n",
    "\n",
    "llm = HuggingFacePipeline.from_model_id(\n",
    "    model_id=\"gpt2\",\n",
    "    task=\"text-generation\",\n",
    "    pipeline_kwargs={\n",
    "        \"max_new_tokens\":150,\n",
    "    },\n",
    ")\n",
    "\n",
    "chain = prompt | llm\n",
    "\n",
    "chain.invoke({\"word\":\"tomato\"})"
   ]
  },
  {
   "cell_type": "markdown",
   "metadata": {},
   "source": [
    "# HuggingFacePipeline으로 로컬 AI 모델 사용하기 🤖\n",
    "\n",
    "## 1. 필요한 도구 가져오기\n",
    "```python\n",
    "from langchain.llms.huggingface_pipeline import HuggingFacePipeline\n",
    "from langchain.prompts import PromptTemplate\n",
    "```\n",
    "- `HuggingFacePipeline`: 허깅페이스의 모델을 로컬에서 실행할 수 있게 해주는 도구\n",
    "- `PromptTemplate`: 질문 형식을 만들어주는 도구\n",
    "\n",
    "## 2. 질문 템플릿 만들기\n",
    "```python\n",
    "prompt = PromptTemplate.from_template(\"A {word} is a \")\n",
    "```\n",
    "- \"A {word} is a \"라는 형식의 템플릿을 만듦\n",
    "- {word} 부분에 우리가 원하는 단어를 넣을 수 있음\n",
    "- 예: \"A tomato is a \" 이런식으로 됨\n",
    "\n",
    "## 3. 로컬 AI 모델 설정하기\n",
    "```python\n",
    "llm = HuggingFacePipeline.from_model_id(\n",
    "    model_id=\"gpt2\",\n",
    "    task=\"text-generation\",\n",
    "    pipeline_kwargs={\n",
    "        \"max_new_tokens\":150,\n",
    "    },\n",
    ")\n",
    "```\n",
    "- `model_id=\"gpt2\"`: GPT-2라는 AI 모델을 사용\n",
    "- `task=\"text-generation\"`: 텍스트를 생성하는 작업을 할 거라고 지정\n",
    "- `max_new_tokens=150`: 최대 150개의 새로운 토큰(단어나 부분 단어)을 생성\n",
    "\n",
    "## 4. 체인 만들기\n",
    "```python\n",
    "chain = prompt | llm\n",
    "```\n",
    "- `|` 기호로 프롬프트와 모델을 연결\n",
    "- 프롬프트에서 만든 질문을 모델에게 전달하는 파이프라인 생성\n",
    "\n",
    "## 5. 실행하기\n",
    "```python\n",
    "chain.invoke({\"word\":\"tomato\"})\n",
    "```\n",
    "- `word`에 \"tomato\"를 넣어서 토마토가 무엇인지 물어보기\n",
    "- AI가 토마토에 대한 설명을 생성\n",
    "\n",
    "## 주의사항 ⚠️\n",
    "1. 처음 실행할 때 모델을 다운로드 받아야 해서 시간이 걸릴 수 있음\n",
    "2. 컴퓨터에 충분한 메모리가 필요함\n",
    "3. GPU가 있으면 더 빠르게 실행됨\n",
    "\n",
    "## 이 방식의 장점 👍\n",
    "1. 인터넷 연결이 필요 없음 (한번 다운로드 받은 후)\n",
    "2. 개인정보가 외부로 전송되지 않음\n",
    "3. API 키가 필요 없음\n",
    "4. 무료로 사용 가능\n",
    "\n",
    "## 팁 💡\n",
    "- 다른 모델도 시도해보세요 (예: \"bert\", \"t5\" 등)\n",
    "- `max_new_tokens` 값을 조절해서 답변 길이 조절 가능\n",
    "- 다른 형식의 프롬프트도 시도해보세요\n",
    "\n",
    "이제 여러분도 로컬에서 AI 모델을 실행할 수 있어요! 😊\n"
   ]
  }
 ],
 "metadata": {
  "kernelspec": {
   "display_name": "env",
   "language": "python",
   "name": "python3"
  },
  "language_info": {
   "codemirror_mode": {
    "name": "ipython",
    "version": 3
   },
   "file_extension": ".py",
   "mimetype": "text/x-python",
   "name": "python",
   "nbconvert_exporter": "python",
   "pygments_lexer": "ipython3",
   "version": "3.11.11"
  }
 },
 "nbformat": 4,
 "nbformat_minor": 2
}
