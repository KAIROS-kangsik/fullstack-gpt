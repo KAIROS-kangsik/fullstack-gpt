{
 "cells": [
  {
   "cell_type": "markdown",
   "metadata": {},
   "source": [
    "# 11.4 Recap"
   ]
  },
  {
   "cell_type": "code",
   "execution_count": 2,
   "metadata": {},
   "outputs": [],
   "source": [
    "import subprocess\n",
    "from pydub import AudioSegment\n",
    "import math\n",
    "import glob\n",
    "import openai\n",
    "\n",
    "def extract_audio_from_video(video_path, audio_path):\n",
    "    command = [\"ffmpeg\", \"-i\", video_path, \"-vn\", audio_path,]\n",
    "    # 이렇게 배열로 형태로 전달하는 것은 보안때문이다. 또한 특수 문자가 포함되어 있을때도 더 편리하기 때문에\n",
    "    # 배열방식이 권장된다.\n",
    "    subprocess.run(command)\n",
    "\n",
    "# extract_audio_from_video(\"../files/Joe_Dispenza_podcast.mp4\", \"../files/audio.mp3\")\n",
    "\n",
    "def cut_audio_in_chunks(audio_path, chunk_size, chunks_folder):\n",
    "    track = AudioSegment.from_mp3(audio_path)\n",
    "    chunk_len = chunk_size * 60 * 1000 # 5분을 밀리초 단위로 변환\n",
    "    chunks = math.ceil(len(track) / chunk_len) # ceil은 올림 할때 쓰는 함수\n",
    "\n",
    "    for i in range(chunks):\n",
    "        start_time = i * chunk_len\n",
    "        end_time = (i+1) * chunk_len\n",
    "\n",
    "        if i < chunks-1:\n",
    "            splited_track = track[start_time:end_time]\n",
    "            splited_track.export(f\"{chunks_folder}/chunk_{i}.mp3\", format=\"mp3\")\n",
    "        else:\n",
    "            splited_track = track[start_time:]\n",
    "            splited_track.export(f\"{chunks_folder}/chunk_{i}.mp3\", format=\"mp3\")\n",
    "\n",
    "# cut_audio_in_chunks(\"../files/audio.mp3\", 10, \"../files/chunks\")\n"
   ]
  },
  {
   "cell_type": "markdown",
   "metadata": {},
   "source": [
    "일단 먼저 이전에 만들었던 함수를 조금 수정해보자.  \n",
    "아래와 같이 수정해 보았다. 좀 더 간결하다."
   ]
  },
  {
   "cell_type": "code",
   "execution_count": null,
   "metadata": {},
   "outputs": [],
   "source": [
    "client = openai.OpenAI()\n",
    "\n",
    "def transcribe_chunks(chunk_folder, destination):\n",
    "    files = glob.glob(f\"{chunk_folder}/*.mp3\")\n",
    "    for file in files:\n",
    "        with open(file, \"rb\") as audio_file, open(destination, \"a\") as text_file:\n",
    "            transcript = client.audio.transcriptions.create(\n",
    "                model=\"whisper-1\", \n",
    "                file=audio_file,\n",
    "            )\n",
    "            text_file.write(transcript.text)\n",
    "\n",
    "# transcribe_chunks(\"../files/chunks\", \"../files/transcript.txt\")"
   ]
  }
 ],
 "metadata": {
  "kernelspec": {
   "display_name": "env",
   "language": "python",
   "name": "python3"
  },
  "language_info": {
   "codemirror_mode": {
    "name": "ipython",
    "version": 3
   },
   "file_extension": ".py",
   "mimetype": "text/x-python",
   "name": "python",
   "nbconvert_exporter": "python",
   "pygments_lexer": "ipython3",
   "version": "3.11.11"
  }
 },
 "nbformat": 4,
 "nbformat_minor": 2
}
