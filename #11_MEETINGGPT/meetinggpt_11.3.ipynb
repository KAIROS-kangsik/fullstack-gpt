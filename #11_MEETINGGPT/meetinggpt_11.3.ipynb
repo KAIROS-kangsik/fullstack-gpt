{
 "cells": [
  {
   "cell_type": "markdown",
   "metadata": {},
   "source": [
    "# 11.2 Whisper Transcript"
   ]
  },
  {
   "cell_type": "markdown",
   "metadata": {},
   "source": [
    "지난시간에는 pydub을 이용해서 오디오파일을 최대 10분길이로 자르는 방법을 배웠다.\n",
    "\n",
    "이번시간에는 이 자른 파일을 openAI API로 보내서 Whisper모델을 사용하여 녹취록을 받을 것이다."
   ]
  },
  {
   "cell_type": "code",
   "execution_count": 2,
   "metadata": {},
   "outputs": [],
   "source": [
    "import subprocess\n",
    "from pydub import AudioSegment\n",
    "import math\n",
    "\n",
    "def extract_audio_from_video(video_path, audio_path):\n",
    "    command = [\"ffmpeg\", \"-i\", video_path, \"-vn\", audio_path,]\n",
    "    # 이렇게 배열로 형태로 전달하는 것은 보안때문이다. 또한 특수 문자가 포함되어 있을때도 더 편리하기 때문에\n",
    "    # 배열방식이 권장된다.\n",
    "    subprocess.run(command)\n",
    "\n",
    "# extract_audio_from_video(\"../files/Joe_Dispenza_podcast.mp4\", \"../files/audio.mp3\")\n",
    "\n",
    "def cut_audio_in_chunks(audio_path, chunk_size, chunks_folder):\n",
    "    track = AudioSegment.from_mp3(audio_path)\n",
    "    chunk_len = chunk_size * 60 * 1000 # 5분을 밀리초 단위로 변환\n",
    "    chunks = math.ceil(len(track) / chunk_len) # ceil은 올림 할때 쓰는 함수\n",
    "\n",
    "    for i in range(chunks):\n",
    "        start_time = i * chunk_len\n",
    "        end_time = (i+1) * chunk_len\n",
    "\n",
    "        if i < chunks-1:\n",
    "            splited_track = track[start_time:end_time]\n",
    "            splited_track.export(f\"{chunks_folder}/chunk_{i}.mp3\", format=\"mp3\")\n",
    "        else:\n",
    "            splited_track = track[start_time:]\n",
    "            splited_track.export(f\"{chunks_folder}/chunk_{i}.mp3\", format=\"mp3\")\n"
   ]
  },
  {
   "cell_type": "code",
   "execution_count": 3,
   "metadata": {},
   "outputs": [],
   "source": [
    "cut_audio_in_chunks(\"../files/audio.mp3\", 10, \"../files/chunks\")"
   ]
  },
  {
   "cell_type": "code",
   "execution_count": null,
   "metadata": {},
   "outputs": [
    {
     "name": "stdout",
     "output_type": "stream",
     "text": [
      "Transcription(text=\"We cannot attract anything in our life that we feel separate from. The moment you feel the lack and the separation, you're holding yourself hostage to the past. Best-selling author. He's lectured and given advanced workshops in more than 30 countries. Dr. Joe Dispenza. How I want to be. This is about conditioning my body emotionally into the future. As long as I'm feeling this emotion, I'm going to believe in that future. What is blocking us from manifesting love? We're thrilled to announce that we've reached 3 million subscribers. We're incredibly grateful for each and every one of you. If you enjoyed this episode, don't forget to hit that subscribe button so you never miss out on any of our new releases. We're dedicated to bringing you the content you love. Our team carefully analyzes what resonates most with you to bring on board the best experts and storytellers to help you improve your life. Some of your favorite topics are sleep science, weight loss, physical fitness, navigating breakups, habit building, and understanding toxic relationships. Upcoming episodes include one of the biggest names in health and science, world-renowned relationship therapist, and your favorite manifestation expert is back to drop new findings. Hit subscribe to not miss any of these episodes. If you think of someone who would love this episode, send it to them to make their day. What is blocking us from manifesting love? I really think that the majority of people spend most of their time in a state of readiness in their life. They're always ready for whatever's going to take place and it's like an idol. So the hormones that are associated with getting up and going and reacting stressfully, those hormones are hormones that create a primitive mechanism where we go into survival, right? And living in stress and living in survival is not a time for us to open our hearts, right? So get bruised, get damaged, get injured in your life. The stronger the emotion you feel towards that event in your life, the more altered you feel from that experience. The brain freezes a frame and takes a snapshot and that's called a long-term memory. So people think about the problems that happened in the past and they produce the same chemistry in their brain and body as if the event was happening. So what happens is the body gets conditioned emotionally into the past. So now the trauma or the betrayal is not just in the brain now, it's in the body. So the body, in a sense, gets programmed or conditioned to stay in survival. And when you're in survival, it's not a time to be vulnerable. It's not a time to open our hearts. It's not a time to create. It's in a state of arousal where we have to keep our attention on things that matter. The things in our environment, the way our body is feeling and how we're managing ourselves and time in and of itself. So to change is to be greater than your body, to be greater than your environment and to be greater than time. And so when we're stressed, it's really hard to change. When we're stressed, it's really not a time to change. It's not a time to create and it's not a time to learn. So then this is a mechanism that's primitive in our biology. And to be able to tame the animal so that the animal self, so it's no longer in a state of readiness, trying to always predict the worst case scenario, just so you could be ready if it happens. It turns out that that's the conversion of those survival states into a state of creation. We've discovered some really important things about it. And if you teach people how to convert from that sympathetic nervous system to the parasympathetic nervous system, if you teach them how to trade resentment and impatience and frustration, justified or not, that's doing no good for you, for an elevated emotion and practice, actually practice making the chemistry that is associated with love. And in the beginning, it's difficult. And so if you place your attention on your heart, we discovered that there's a very low frequency that you can measure that actually goes up that's indigenous to what the heart needs in terms of a life force to beat. So where you place your attention is where you place your energy. And all the things you can place your attention on, place it on your heart. Now, slow your breathing down. And if you can slow your breathing down, you can take your body out of that state of readiness. And when you slow your breathing down, you slow your brain waves down and your body starts to move out of that state of sympathetic arousal. Practice feeling elevated emotions with your heart, kindness, care, love, appreciation, gratitude. And you'll get good at feeling that way if you keep doing it. So then when a person's in that state, the heart in and of itself, when it's activated, like that gets super organized, it gets coherent and it sends a signal to the brain, literally in the form of information to tell the brain, the survival system to shut down. That the amygdala literally, the lights go out. It resets the baseline for the trauma in the brain and the body moves out of survival. And now it wants to create. And the heart informs the brain to get creative. And the brain goes into these beautiful, organized, alpha brainwave patterns. In an alpha, we tend to imagine, we tend to create, we tend to dream. So the heart informs the brain, it's time to create. That's, I think, when we're in that state of inspiration, where we're actually falling in love with what we're creating. We're bonding to that creation. The stronger the emotion we feel, the more we remember that future. And I think that's how people really begin to make those changes. Now, getting there is a daily practice. Getting there is something that you have to keep doing. So the block for us to feel love is that if we're living in survival, you have to make up your mind that that state is not a state to create in. And break away from the people in your life, and your schedule, and your phone, and all the obligations you have long enough to reset just for a little period of time and to remember. So you don't forget. I think that's where it becomes super valuable. Yeah, I think you hit on a really important nerve there, this idea that we're living in a constant state of stress. And when I think about our community who are thinking about dating, and I think about friends in my life that are trying to find romantic love, especially in their life, and their feeling around dating mentally, physically, emotionally is stressful. The idea of dating is stressful. The idea of being on a date is stressful. The idea of talking to someone is stressful. And it's so interesting, you're so right, that how are you going to create when all of your emotions around this is stress? You've got the stress of a timeline. Gosh, I'm in my mid-30s. I should have found someone by now is things I hear. Oh, I'm in the stress of, I've been out on seven dates in the last couple of months, and none of them were good enough. And so I'm in the stress of scarcity. And so you're so right, that's what we're feeling. How do we get out of that system and that cycle? Because a lot of the time, we've developed that feeling towards finding romantic love for like weeks, months, years. Yeah. How do you break that cycle? There's nothing wrong with doing any of those things. But when we're stressed, we're altered. That stress is when we're out of balance. We're not ourselves, right? We can't relax and be authentic. And so typically, it usually takes a crisis, or a disease, or a diagnosis, or a trauma, or a loss, or a betrayal, for a person to really decide, is this really who I want to continue to be? So my message is, why wait for that, right? So there's nothing wrong with saying, I want to be in a relationship. I want the following things in a relationship from this person, or what might be my ideal relationship. How detailed should you get on something like that? Like, should you be talking about physical things, or is it mainly emotional and connectedness? I think people have an image in their mind of what they like, or what their type is, or whatever. I don't think there's anything wrong with that. But I think what people are really looking for is connection and joy. Like, people should be in a relationship. The reason they should be in a relationship is to be overjoyed to be with the person that you're with, right? You want joy in your life. For me, it would make sense then, if the person got very clear on what they wanted, then they should start on the journey to become that very person. They should really work on being that very person that they want. So there would have to be some change that they would have to make in order to be worthy enough to create a person that they would attract in their life. And we cannot attract anything in our life that we feel separate from. Trusting in a future that you can't see or experience, you have to lay down the very thing you used your whole life to get what you want to trust that something greater could happen. And that's not something that's very easy. So I like the idea that it wouldn't happen.\")\n"
     ]
    }
   ],
   "source": [
    "import openai\n",
    "\n",
    "client = openai.OpenAI()\n",
    "\n",
    "transcript = client.audio.transcriptions.create(model=\"whisper-1\", file=open(\"../files/chunks/chunk_0.mp3\", \"rb\"))\n",
    "# 이 코드는 whisper AI로 오디오를 보내서 그 스크립트를 받기위해 작성한 것이다.\n",
    "# 여기서 rb는 이진법으로 읽는다는 뜻이다.\n",
    "print(transcript)"
   ]
  },
  {
   "cell_type": "markdown",
   "metadata": {},
   "source": [
    "이렇게 하면 우리가 분할한 오디오 파일을 AI를 이용해 그 스크립트를 받아올 수 있게 된다.\n",
    "\n",
    "이제는 각 파일들을 모두 스크립트로 바꿔주는 작업을 할것이다. 이를 위해 우리는 glob을 import해와야 한다.\n",
    "\n",
    "glob이 어떻게 동작하는지는 아래 코드를 보며 익혀보자."
   ]
  },
  {
   "cell_type": "code",
   "execution_count": 11,
   "metadata": {},
   "outputs": [
    {
     "name": "stdout",
     "output_type": "stream",
     "text": [
      "['../files/chunks/chunk_0.mp3', '../files/chunks/chunk_1.mp3']\n"
     ]
    }
   ],
   "source": [
    "import glob\n",
    "\n",
    "def transcribe_chunks(chunk_folder, destination):\n",
    "    files = glob.glob(f\"{chunk_folder}/*.mp3\")\n",
    "    return files\n",
    "\n",
    "print(transcribe_chunks(\"../files/chunks\", \"...\"))"
   ]
  },
  {
   "cell_type": "markdown",
   "metadata": {},
   "source": [
    "glob은 패턴에 맞는 모든 파일들을 읽어와서 우리가 원하는 처리를 거쳐 list형태로 반환하는 역할을 한다. 또한 전역변수를 만들어 다음번에 우리가 이 프로젝트로 작업할때 중복으로 실행이 안되게 해준다(?) -> 솔직히 잘 모르겠음...\n",
    "\n",
    "위 코드를 보면 `../files/chunks`라는 폴더 안에서 mp3확장자를 가진 모든 파일(*로 모든파일이라고 명시함)을 찾아서 그에대해 우리가 원하는 처리를 해서 list형태로 반환하는 것을 볼 수 있다.\n",
    "\n",
    "자 이제 우리는 파일들의 리스트를 얻었다. 이제 다시 함수마저 정의해보자."
   ]
  },
  {
   "cell_type": "code",
   "execution_count": 14,
   "metadata": {},
   "outputs": [],
   "source": [
    "def transcribe_chunks(chunk_folder, destination):\n",
    "    files = glob.glob(f\"{chunk_folder}/*.mp3\")\n",
    "    final_transcribe = \"\"\n",
    "    for file in files:\n",
    "        with open(file, \"rb\") as audio_file:\n",
    "            transcript = client.audio.transcriptions.create(\n",
    "                model=\"whisper-1\", \n",
    "                file=audio_file,\n",
    "            )\n",
    "            final_transcribe += transcript.text\n",
    "    with open(destination, \"w\") as file:\n",
    "        file.write(final_transcribe)\n",
    "\n",
    "transcribe_chunks(\"../files/chunks\", \"../files/transcript.txt\")"
   ]
  }
 ],
 "metadata": {
  "kernelspec": {
   "display_name": "env",
   "language": "python",
   "name": "python3"
  },
  "language_info": {
   "codemirror_mode": {
    "name": "ipython",
    "version": 3
   },
   "file_extension": ".py",
   "mimetype": "text/x-python",
   "name": "python",
   "nbconvert_exporter": "python",
   "pygments_lexer": "ipython3",
   "version": "3.11.11"
  }
 },
 "nbformat": 4,
 "nbformat_minor": 2
}
