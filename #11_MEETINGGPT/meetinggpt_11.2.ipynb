{
 "cells": [
  {
   "cell_type": "markdown",
   "metadata": {},
   "source": [
    "# 11.2 Cutting The Audio"
   ]
  },
  {
   "cell_type": "markdown",
   "metadata": {},
   "source": [
    "이번에는 지난번에 만들었던 아주 긴 오디오 파일을 가져와서 10분 길이의 mp3파일들로 변환할 것이다. 왜 10분으로 자르냐면 오디오를 텍스트로 변환해주는 whisper AI의 최대 인풋 길이가 10분이기 때문이다. 이렇게 자를때 우리는 pydub을 사용해서 자를것이다.\n",
    "\n",
    "어떤식으로 동작할지 살펴보자. 일단 파일을 로드한다. 그 다음 pydub을 사용하면 이 파일이 마치 list인 것처럼 조작 할 수 있다. 즉 파일의 처음 10초만을 추출하거나, 마지막 5초를 추출할 수 있다. 마치 배열을 슬라이싱 할 때처럼!!"
   ]
  },
  {
   "cell_type": "code",
   "execution_count": 1,
   "metadata": {},
   "outputs": [],
   "source": [
    "import subprocess\n",
    "\n",
    "def extract_audio_from_video(video_path, audio_path):\n",
    "    command = [\"ffmpeg\", \"-i\", video_path, \"-vn\", audio_path,]\n",
    "    # 이렇게 배열로 형태로 전달하는 것은 보안때문이다. 또한 특수 문자가 포함되어 있을때도 더 편리하기 때문에\n",
    "    # 배열방식이 권장된다.\n",
    "    subprocess.run(command)\n",
    "\n",
    "# extract_audio_from_video(\"../files/Joe_Dispenza_podcast.mp4\", \"../files/audio.mp3\")"
   ]
  },
  {
   "cell_type": "code",
   "execution_count": 6,
   "metadata": {},
   "outputs": [
    {
     "name": "stdout",
     "output_type": "stream",
     "text": [
      "4490.599909297052\n"
     ]
    }
   ],
   "source": [
    "from pydub import AudioSegment\n",
    "\n",
    "track = AudioSegment.from_mp3(\"../files/audio.mp3\")\n",
    "\n",
    "print(track.duration_seconds) # 우리의 음성파일이 총 몇초인지 확인하기 위한 함수\n",
    "\n",
    "ten_minutes = 10 * 60 * 1000 # 5분을 밀리초 단위로 변환\n"
   ]
  },
  {
   "cell_type": "code",
   "execution_count": 10,
   "metadata": {},
   "outputs": [
    {
     "name": "stdout",
     "output_type": "stream",
     "text": [
      "7.484333333333334\n"
     ]
    }
   ],
   "source": [
    "import math\n",
    "\n",
    "print(len(track) / ten_minutes) # 몇개의 트랙이 생기는지 계산\n",
    "\n",
    "chunks = math.ceil(len(track) / ten_minutes) # ceil은 올림 할때 쓰는 함수\n",
    "\n",
    "for i in range(chunks):\n",
    "    start_time = i * ten_minutes\n",
    "    end_time = (i+1) * ten_minutes\n",
    "\n",
    "    if i < chunks-1:\n",
    "        splited_track = track[start_time:end_time]\n",
    "        splited_track.export(f\"../files/chunks/chunk_{i}.mp3\", format=\"mp3\")\n",
    "    else:\n",
    "        splited_track = track[start_time:]\n",
    "        splited_track.export(f\"../files/chunks/chunk_{i}.mp3\", format=\"mp3\")\n"
   ]
  }
 ],
 "metadata": {
  "kernelspec": {
   "display_name": "env",
   "language": "python",
   "name": "python3"
  },
  "language_info": {
   "codemirror_mode": {
    "name": "ipython",
    "version": 3
   },
   "file_extension": ".py",
   "mimetype": "text/x-python",
   "name": "python",
   "nbconvert_exporter": "python",
   "pygments_lexer": "ipython3",
   "version": "3.11.11"
  }
 },
 "nbformat": 4,
 "nbformat_minor": 2
}
