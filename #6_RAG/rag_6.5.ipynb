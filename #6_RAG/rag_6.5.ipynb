{
 "cells": [
  {
   "cell_type": "markdown",
   "metadata": {},
   "source": [
    "# 6.5 Langsmith"
   ]
  },
  {
   "cell_type": "markdown",
   "metadata": {},
   "source": [
    "이번에는 LangSmith와 이것의 설정방법에 대해 배워보자.\n",
    "\n",
    "이 도구를 사용하면 우리의 체인이 무엇을 하고 있는지 시각적으로 볼 수 있다.<br>\n",
    "\n",
    "1. 먼저,<br>\n",
    "    https://www.langchain.com/langsmith <br>\n",
    "    페이지에서 가입을 한다.\n",
    "\n",
    "2. 로그인 후, API key를 생성한다.\n",
    "\n",
    "3. 그 후 \"source env/bin/activate\" 명령어를 실행하여 가상환경으로 들어간다.\n",
    "\n",
    "4. \"pip install -U langchain langchain-openai\"를 가상환경에서 실행해서. 가상환경에 다운 받는다. (requirements.txt파일로 인해 이미 다운이 되어 있을수도 있다.)\n",
    "\n",
    "5. 그 다음 .env 파일을 열고, 그리고 페이지 화면에 보이는 환경변수들을 입력하면 된다.\n",
    "    ```python\n",
    "    \"../.env\"\n",
    "    ```\n",
    "\n",
    "6. 그 다음 파일들을 실행해주면 된다."
   ]
  }
 ],
 "metadata": {
  "kernelspec": {
   "display_name": "env",
   "language": "python",
   "name": "python3"
  },
  "language_info": {
   "name": "python",
   "version": "3.11.11"
  }
 },
 "nbformat": 4,
 "nbformat_minor": 2
}
