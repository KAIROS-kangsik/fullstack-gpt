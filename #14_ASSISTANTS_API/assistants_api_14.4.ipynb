{
 "cells": [
  {
   "cell_type": "markdown",
   "metadata": {},
   "source": [
    "# 14.4 Running A Thread"
   ]
  },
  {
   "cell_type": "markdown",
   "metadata": {},
   "source": [
    "OpenAI의 assistant로도 함수를 정의하고 LLM에게 이 함수를 실행하라고 말해 줄 수 있다.\n",
    "\n",
    "아래의 코드처럼 함수를 정의하고, 함수를 설명만 해주면 된다.\n",
    "\n",
    "우리가 QuizGPT를 만들때 배웠던 방식처럼 Schema를 만들어 주기만 하면 된다. (quizGPT_9.8.ipynb 참고)"
   ]
  },
  {
   "cell_type": "code",
   "execution_count": 136,
   "metadata": {},
   "outputs": [],
   "source": [
    "from langchain.utilities.google_search import GoogleSearchAPIWrapper\n",
    "import yfinance\n",
    "import json\n",
    "import os\n",
    "\n",
    "google_api_key = os.environ.get(\"GOOGLE_API_KEY\")\n",
    "google_cse_id = os.environ.get(\"GOOGLE_CSE_ID\")\n",
    "\n",
    "def get_ticker(inputs):\n",
    "    google_search = GoogleSearchAPIWrapper(\n",
    "        google_cse_id=google_cse_id,\n",
    "        google_api_key=google_api_key,\n",
    "    )\n",
    "    company_name = inputs[\"company_name\"]\n",
    "    return google_search.run(f\"Ticker symbol of {company_name}\")\n",
    "\n",
    "def get_income_statement(inputs):\n",
    "    ticker = inputs[\"ticker\"]\n",
    "    stock = yfinance.Ticker(ticker)\n",
    "    return json.dumps(stock.income_stmt.to_json())\n",
    "    # 여기서 dumps의 역할은 object를 받아서 json포맷의 string으로 바꿔주는 역할을 한다.\n",
    "\n",
    "def get_balance_sheet(inputs):\n",
    "    ticker = inputs[\"ticker\"]\n",
    "    stock = yfinance.Ticker(ticker)\n",
    "    return json.dumps(stock.balance_sheet.to_json())\n",
    "\n",
    "def get_daily_stock_performance(inputs):\n",
    "    ticker = inputs[\"ticker\"]\n",
    "    stock = yfinance.Ticker(ticker)\n",
    "    return json.dumps(stock.history(period=\"3mo\").to_json())\n",
    "    # 여기서 period=\"3mo\"라는 말은 마지막 3개월 이라는 뜻이다.\n",
    "\n",
    "functions = [\n",
    "    {\n",
    "        \"type\": \"function\",\n",
    "        \"function\": {\n",
    "            \"name\": \"get_ticker\",\n",
    "            \"description\": \"Given the name of a company returns its ticker symbol\",\n",
    "            \"parameters\": {\n",
    "                \"type\": \"object\",\n",
    "                \"properties\": {\n",
    "                    \"company_name\": {\n",
    "                        \"type\": \"string\",\n",
    "                        \"description\": \"The name of the company\",\n",
    "                    }\n",
    "                },\n",
    "                \"required\": [\"company_name\"],\n",
    "            },\n",
    "        },\n",
    "    },\n",
    "    {\n",
    "        \"type\": \"function\",\n",
    "        \"function\": {\n",
    "            \"name\": \"get_income_statement\",\n",
    "            \"description\": \"Given a ticker symbol (i.e AAPL) returns the company's income statement.\",\n",
    "            \"parameters\": {\n",
    "                \"type\": \"object\",\n",
    "                \"properties\": {\n",
    "                    \"ticker\": {\n",
    "                        \"type\": \"string\",\n",
    "                        \"description\": \"Ticker symbol of the company\",\n",
    "                    },\n",
    "                },\n",
    "                \"required\": [\"ticker\"],\n",
    "            },\n",
    "        },\n",
    "    },\n",
    "    {\n",
    "        \"type\": \"function\",\n",
    "        \"function\": {\n",
    "            \"name\": \"get_balance_sheet\",\n",
    "            \"description\": \"Given a ticker symbol (i.e AAPL) returns the company's balance sheet.\",\n",
    "            \"parameters\": {\n",
    "                \"type\": \"object\",\n",
    "                \"properties\": {\n",
    "                    \"ticker\": {\n",
    "                        \"type\": \"string\",\n",
    "                        \"description\": \"Ticker symbol of the company\",\n",
    "                    },\n",
    "                },\n",
    "                \"required\": [\"ticker\"],\n",
    "            },\n",
    "        },\n",
    "    },\n",
    "    {\n",
    "        \"type\": \"function\",\n",
    "        \"function\": {\n",
    "            \"name\": \"get_daily_stock_performance\",\n",
    "            \"description\": \"Given a ticker symbol (i.e AAPL) returns the performance of the stock for the last 100 days.\",\n",
    "            \"parameters\": {\n",
    "                \"type\": \"object\",\n",
    "                \"properties\": {\n",
    "                    \"ticker\": {\n",
    "                        \"type\": \"string\",\n",
    "                        \"description\": \"Ticker symbol of the company\",\n",
    "                    },\n",
    "                },\n",
    "                \"required\": [\"ticker\"],\n",
    "            },\n",
    "        },\n",
    "    },\n",
    "]\n",
    "\n",
    "# get_income_statement({\"ticker\": \"AAPL\"})"
   ]
  },
  {
   "cell_type": "markdown",
   "metadata": {},
   "source": [
    "이렇게 만들고 나면, 우리는 assistant를 만들어 주어야 한다.\n",
    "\n",
    "아래처럼 해주면 된다."
   ]
  },
  {
   "cell_type": "code",
   "execution_count": 137,
   "metadata": {},
   "outputs": [],
   "source": [
    "import openai as client\n",
    "\n",
    "# assistant = client.beta.assistants.create(\n",
    "#     name=\"Investor Assistant\",\n",
    "#     instructions=\"You help users do research on publicly traded companies and you help them decide if they should buy the stock or not.\",\n",
    "#     model=\"gpt-4o\",\n",
    "#     tools=functions,\n",
    "# )\n",
    "# 어시스턴트를 하나 더 만들지 않게 하기 위해 주석처리함.\n"
   ]
  },
  {
   "cell_type": "markdown",
   "metadata": {},
   "source": [
    "이렇게 되면 assistant가 만들어 졌고, 이는 \"https://platform.openai.com/assistants/\"에서 확인이 가능하다.\n",
    "\n",
    "여기서 또한 Assistant Id도 확인이 가능하다."
   ]
  },
  {
   "cell_type": "code",
   "execution_count": 138,
   "metadata": {},
   "outputs": [],
   "source": [
    "assistant_id = \"asst_CJaj6ZDRFCtl2nPDls1IBTZk\""
   ]
  },
  {
   "cell_type": "markdown",
   "metadata": {},
   "source": [
    "이렇게 Assistant Id는 계속 필요하니까 변수에 넣어두자."
   ]
  },
  {
   "cell_type": "code",
   "execution_count": 139,
   "metadata": {},
   "outputs": [
    {
     "data": {
      "text/plain": [
       "Thread(id='thread_4qe4akln5aUjWBKyBWQ1HK5w', created_at=1740750153, metadata={}, object='thread', tool_resources=ToolResources(code_interpreter=None, file_search=None))"
      ]
     },
     "execution_count": 139,
     "metadata": {},
     "output_type": "execute_result"
    }
   ],
   "source": [
    "thread = client.beta.threads.create(\n",
    "    messages=[\n",
    "        {\n",
    "            \"role\": \"user\",\n",
    "            \"content\": \"I want to know if the Salesforce stock is a good buy\",\n",
    "        }\n",
    "    ]\n",
    ")\n",
    "thread"
   ]
  },
  {
   "cell_type": "markdown",
   "metadata": {},
   "source": [
    "이제 Thread를 만들어서 메세지를 넣어주어야 한다.\n",
    "\n",
    "Open AI의 Assistant의 작동방식을 상기해보자.\n",
    "\n",
    "먼저 Assistant를 만들고, Thread를 만들어 메세지를 넣는다.  \n",
    "그다음 run을 하여 LLM에게 보낸다.\n",
    "\n",
    "이런식으로 작동한다는 것을 잊지말자."
   ]
  },
  {
   "cell_type": "code",
   "execution_count": 140,
   "metadata": {},
   "outputs": [],
   "source": [
    "def get_run(run_id, thread_id):\n",
    "    return client.beta.threads.runs.retrieve(\n",
    "        run_id=run_id,\n",
    "        thread_id=thread_id,\n",
    "    )\n",
    "# 이 함수를 만드는 이유는 run의 status를 반복적으로 받아와서 상태를 확인하기 위해서이다.\n",
    "# 즉 run이 어떻게 되어가고 있는지, 어떤 상태인지를 retrieve를 통해 받아오기 위해 만들어진 함수이다."
   ]
  },
  {
   "cell_type": "markdown",
   "metadata": {},
   "source": [
    "우리는 run을 하고 나서 run의 상태를 모른다. 따라서 run의 상태를 알기 위해 위와 같은 함수를 만들었다.\n",
    "\n",
    "retrieve로 상태를 받아올 수 있다.\n",
    "\n",
    "##### run이 가질수 있는 상태\n",
    "1. queued: 우리가 run을 만드는(create) 순간에는 queued(대기)상태가 된다.\n",
    "2. in_progress: 그 다음으로는 In progress(진행중) 상태가 된다. 우리가 requires action이란 상태에서 tool의 실행 결과를 submit해도 in progress(진행중)상태가 된다.\n",
    "3. cancelling -> cancelled: 우리가 취소를 하면 cancelled(취소) 상태가 된다.\n",
    "4. requires action: 만약 어떠한 함수를 실행하여 그 반환값을 받아와야 되는 것이면 requires action(조치가 필요함)이라는 상태가 된다. 즉, assistant가 우리에게 tool을 실행하기를 요청하는 상태이다.\n",
    "5. failed: 어떤 예상치 못한 일이 발생해서 failed(실패)된 상태.\n",
    "6. completed: tool으로부터 반환값을 잘 받아와서 assistant가 completed(완료)된 상태.\n",
    "7. expired: tool의 반환값(output)을 submit하는데 너무 오래 걸렸다면 expired(만료)된 상태가 된다."
   ]
  },
  {
   "cell_type": "code",
   "execution_count": 141,
   "metadata": {},
   "outputs": [
    {
     "data": {
      "text/plain": [
       "Run(id='run_TEmzt9dbDhyj9Y7KVt27mjyI', assistant_id='asst_CJaj6ZDRFCtl2nPDls1IBTZk', cancelled_at=None, completed_at=None, created_at=1740750175, expires_at=1740750775, failed_at=None, incomplete_details=None, instructions='You help users do research on publicly traded companies and you help them decide if they should buy the stock or not.', last_error=None, max_completion_tokens=None, max_prompt_tokens=None, metadata={}, model='gpt-4o', object='thread.run', parallel_tool_calls=True, required_action=None, response_format='auto', started_at=None, status='queued', thread_id='thread_4qe4akln5aUjWBKyBWQ1HK5w', tool_choice='auto', tools=[FunctionTool(function=FunctionDefinition(name='get_ticker', description='Given the name of a company returns its ticker symbol', parameters={'type': 'object', 'properties': {'company_name': {'type': 'string', 'description': 'The name of the company'}}, 'required': ['company_name']}, strict=False), type='function'), FunctionTool(function=FunctionDefinition(name='get_income_statement', description=\"Given a ticker symbol (i.e AAPL) returns the company's income statement.\", parameters={'type': 'object', 'properties': {'ticker': {'type': 'string', 'description': 'Ticker symbol of the company'}}, 'required': ['ticker']}, strict=False), type='function'), FunctionTool(function=FunctionDefinition(name='get_balance_sheet', description=\"Given a ticker symbol (i.e AAPL) returns the company's balance sheet.\", parameters={'type': 'object', 'properties': {'ticker': {'type': 'string', 'description': 'Ticker symbol of the company'}}, 'required': ['ticker']}, strict=False), type='function'), FunctionTool(function=FunctionDefinition(name='get_daily_stock_performance', description='Given a ticker symbol (i.e AAPL) returns the performance of the stock for the last 100 days.', parameters={'type': 'object', 'properties': {'ticker': {'type': 'string', 'description': 'Ticker symbol of the company'}}, 'required': ['ticker']}, strict=False), type='function')], truncation_strategy=TruncationStrategy(type='auto', last_messages=None), usage=None, temperature=1.0, top_p=1.0, tool_resources={}, reasoning_effort=None)"
      ]
     },
     "execution_count": 141,
     "metadata": {},
     "output_type": "execute_result"
    }
   ],
   "source": [
    "run = client.beta.threads.runs.create(\n",
    "    thread_id=thread.id,\n",
    "    assistant_id=assistant_id,\n",
    ")\n",
    "run"
   ]
  },
  {
   "cell_type": "markdown",
   "metadata": {},
   "source": [
    "이렇게 create로 run을 만들 수(created) 있다.\n",
    "\n",
    "이제 run을 만들었으니 이 run의 상태를 받아와서 살펴보자."
   ]
  },
  {
   "cell_type": "code",
   "execution_count": 142,
   "metadata": {},
   "outputs": [
    {
     "data": {
      "text/plain": [
       "Run(id='run_TEmzt9dbDhyj9Y7KVt27mjyI', assistant_id='asst_CJaj6ZDRFCtl2nPDls1IBTZk', cancelled_at=None, completed_at=None, created_at=1740750175, expires_at=1740750775, failed_at=None, incomplete_details=None, instructions='You help users do research on publicly traded companies and you help them decide if they should buy the stock or not.', last_error=None, max_completion_tokens=None, max_prompt_tokens=None, metadata={}, model='gpt-4o', object='thread.run', parallel_tool_calls=True, required_action=RequiredAction(submit_tool_outputs=RequiredActionSubmitToolOutputs(tool_calls=[RequiredActionFunctionToolCall(id='call_qaC7ykwhQmmemP0ve4MMxVOB', function=Function(arguments='{\"company_name\":\"Salesforce\"}', name='get_ticker'), type='function')]), type='submit_tool_outputs'), response_format='auto', started_at=1740750177, status='requires_action', thread_id='thread_4qe4akln5aUjWBKyBWQ1HK5w', tool_choice='auto', tools=[FunctionTool(function=FunctionDefinition(name='get_ticker', description='Given the name of a company returns its ticker symbol', parameters={'type': 'object', 'properties': {'company_name': {'type': 'string', 'description': 'The name of the company'}}, 'required': ['company_name']}, strict=False), type='function'), FunctionTool(function=FunctionDefinition(name='get_income_statement', description=\"Given a ticker symbol (i.e AAPL) returns the company's income statement.\", parameters={'type': 'object', 'properties': {'ticker': {'type': 'string', 'description': 'Ticker symbol of the company'}}, 'required': ['ticker']}, strict=False), type='function'), FunctionTool(function=FunctionDefinition(name='get_balance_sheet', description=\"Given a ticker symbol (i.e AAPL) returns the company's balance sheet.\", parameters={'type': 'object', 'properties': {'ticker': {'type': 'string', 'description': 'Ticker symbol of the company'}}, 'required': ['ticker']}, strict=False), type='function'), FunctionTool(function=FunctionDefinition(name='get_daily_stock_performance', description='Given a ticker symbol (i.e AAPL) returns the performance of the stock for the last 100 days.', parameters={'type': 'object', 'properties': {'ticker': {'type': 'string', 'description': 'Ticker symbol of the company'}}, 'required': ['ticker']}, strict=False), type='function')], truncation_strategy=TruncationStrategy(type='auto', last_messages=None), usage=None, temperature=1.0, top_p=1.0, tool_resources={}, reasoning_effort=None)"
      ]
     },
     "execution_count": 142,
     "metadata": {},
     "output_type": "execute_result"
    }
   ],
   "source": [
    "get_run(run.id, thread.id)"
   ]
  },
  {
   "cell_type": "markdown",
   "metadata": {},
   "source": [
    "상태만 나오는 것이 아니라 run의 정보가 모두 나온다. 여기중에서 status(상태)만 골라서 보면 된다."
   ]
  },
  {
   "cell_type": "code",
   "execution_count": 143,
   "metadata": {},
   "outputs": [
    {
     "data": {
      "text/plain": [
       "'requires_action'"
      ]
     },
     "execution_count": 143,
     "metadata": {},
     "output_type": "execute_result"
    }
   ],
   "source": [
    "get_run(run.id, thread.id).status"
   ]
  },
  {
   "cell_type": "code",
   "execution_count": 144,
   "metadata": {},
   "outputs": [],
   "source": [
    "def get_messages(thread_id):\n",
    "    messages = client.beta.threads.messages.list(\n",
    "        thread_id=thread_id\n",
    "    )\n",
    "    for message in messages:\n",
    "        print(message)"
   ]
  },
  {
   "cell_type": "markdown",
   "metadata": {},
   "source": [
    "LLM이 보내온 메세지가 무엇인지, 우리가 보낸 메세지는 무엇인지를 알아보기 위해 함수를 만들었다."
   ]
  },
  {
   "cell_type": "code",
   "execution_count": 145,
   "metadata": {},
   "outputs": [
    {
     "name": "stdout",
     "output_type": "stream",
     "text": [
      "Message(id='msg_7uqKZUSWGrWYGG7rDGzmMFQp', assistant_id=None, attachments=[], completed_at=None, content=[TextContentBlock(text=Text(annotations=[], value='I want to know if the Salesforce stock is a good buy'), type='text')], created_at=1740750153, incomplete_at=None, incomplete_details=None, metadata={}, object='thread.message', role='user', run_id=None, status=None, thread_id='thread_4qe4akln5aUjWBKyBWQ1HK5w')\n"
     ]
    }
   ],
   "source": [
    "get_messages(thread.id)"
   ]
  },
  {
   "cell_type": "markdown",
   "metadata": {},
   "source": [
    "```pgsql\n",
    "Message(\n",
    "    id='msg_Pk3UWkVy0s2jAk398KKNGo7g',\n",
    "    assistant_id=None,\n",
    "    attachments=[],\n",
    "    completed_at=None,\n",
    "    content=[\n",
    "        TextContentBlock(\n",
    "            text=Text(\n",
    "                annotations=[],\n",
    "                value='I want to know if the Salesforce stock is a good buy'\n",
    "            ),\n",
    "            type='text'\n",
    "        )\n",
    "    ],\n",
    "    created_at=1740749411,\n",
    "    incomplete_at=None,\n",
    "    incomplete_details=None,\n",
    "    metadata={},\n",
    "    object='thread.message',\n",
    "    role='user',\n",
    "    run_id=None,\n",
    "    status=None,\n",
    "    thread_id='thread_icVZFPu7fqir8DcCyZec1zdB'\n",
    ")\n",
    "```\n"
   ]
  },
  {
   "cell_type": "code",
   "execution_count": 146,
   "metadata": {},
   "outputs": [],
   "source": [
    "def get_messages(thread_id):\n",
    "    messages = client.beta.threads.messages.list(\n",
    "        thread_id=thread_id\n",
    "    )\n",
    "    messages = list(messages)\n",
    "    messages.reverse()\n",
    "    for message in messages:\n",
    "        print(f\"{message.role}: {message.content[0].text.value}\")"
   ]
  },
  {
   "cell_type": "markdown",
   "metadata": {},
   "source": [
    "user가 먼저 올 수 있도록 함수를 조금 수정했다.  \n",
    "또한 딱 메세지만 보일 수 있도록 또 수정했다."
   ]
  }
 ],
 "metadata": {
  "kernelspec": {
   "display_name": "env",
   "language": "python",
   "name": "python3"
  },
  "language_info": {
   "codemirror_mode": {
    "name": "ipython",
    "version": 3
   },
   "file_extension": ".py",
   "mimetype": "text/x-python",
   "name": "python",
   "nbconvert_exporter": "python",
   "pygments_lexer": "ipython3",
   "version": "3.11.11"
  }
 },
 "nbformat": 4,
 "nbformat_minor": 2
}
