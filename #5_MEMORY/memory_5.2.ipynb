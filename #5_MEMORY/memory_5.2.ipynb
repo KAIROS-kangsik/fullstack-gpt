{
 "cells": [
  {
   "cell_type": "markdown",
   "metadata": {},
   "source": [
    "# 5.2 ConversationSummaryMemory"
   ]
  },
  {
   "cell_type": "markdown",
   "metadata": {},
   "source": [
    "ConversationSummaryMemory는 이전의 대화 기록들을 요약해서 저장한다.\n",
    "\n",
    "요약해서 저장하기 때문에 처음에는 이전에 배웠던 ConversationBufferMemory나 ConversationBufferWindowMemory에 비해서는 더 많은 토큰을 차지할 수 있다.\n",
    "\n",
    "그러나 대화가 진행되고 길어질수록 ConversationSummaryMemory는 대화 내용을 요약하여 저장하기 때문에 메모리 사용량을 효율적으로 관리할 수 있다."
   ]
  },
  {
   "cell_type": "code",
   "execution_count": 3,
   "metadata": {},
   "outputs": [],
   "source": [
    "from langchain.memory import ConversationSummaryMemory\n",
    "from langchain.chat_models import ChatOpenAI\n",
    "\n",
    "llm = ChatOpenAI(temperature=0.1)\n",
    "\n",
    "memory = ConversationSummaryMemory(llm=llm)\n",
    "\n",
    "def add_message(input, output):\n",
    "    memory.save_context({\"input\":input}, {\"output\":output})\n",
    "\n",
    "def get_history():\n",
    "    return memory.load_memory_variables({})\n",
    "\n",
    "add_message(\"Hi I'm Nicolas, I live in South Korea\", \"Wow that is so cool!\")\n"
   ]
  },
  {
   "cell_type": "code",
   "execution_count": 5,
   "metadata": {},
   "outputs": [],
   "source": [
    "add_message(\"South Korea is so pretty\", \"I wish I could go!!\")"
   ]
  },
  {
   "cell_type": "code",
   "execution_count": 6,
   "metadata": {},
   "outputs": [
    {
     "data": {
      "text/plain": [
       "{'history': 'Nicolas from South Korea expresses admiration for his country, and the AI responds by expressing a desire to visit South Korea because it is so pretty. The human agrees, saying South Korea is indeed beautiful, and the AI expresses its longing to go there.'}"
      ]
     },
     "execution_count": 6,
     "metadata": {},
     "output_type": "execute_result"
    }
   ],
   "source": [
    "get_history()"
   ]
  },
  {
   "cell_type": "markdown",
   "metadata": {},
   "source": [
    "history = {\n",
    "    \"conversation\": [\n",
    "        {\n",
    "            \"role\": \"human\",\n",
    "            \"message\": \"Nicolas from South Korea expresses admiration for his country.\"\n",
    "        },\n",
    "        {\n",
    "            \"role\": \"AI\",\n",
    "            \"message\": \"I would love to visit South Korea! It’s such a beautiful country.\"\n",
    "        },\n",
    "        {\n",
    "            \"role\": \"human\",\n",
    "            \"message\": \"Yes, South Korea is indeed beautiful.\"\n",
    "        },\n",
    "        {\n",
    "            \"role\": \"AI\",\n",
    "            \"message\": \"I really long to go there!\"\n",
    "        }\n",
    "    ]\n",
    "}\n"
   ]
  }
 ],
 "metadata": {
  "kernelspec": {
   "display_name": "env",
   "language": "python",
   "name": "python3"
  },
  "language_info": {
   "codemirror_mode": {
    "name": "ipython",
    "version": 3
   },
   "file_extension": ".py",
   "mimetype": "text/x-python",
   "name": "python",
   "nbconvert_exporter": "python",
   "pygments_lexer": "ipython3",
   "version": "3.11.11"
  }
 },
 "nbformat": 4,
 "nbformat_minor": 2
}
