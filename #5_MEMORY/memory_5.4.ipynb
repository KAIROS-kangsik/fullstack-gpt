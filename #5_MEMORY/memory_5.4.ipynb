{
 "cells": [
  {
   "cell_type": "markdown",
   "metadata": {},
   "source": [
    "# 5.4 ConversationKGMemory"
   ]
  },
  {
   "cell_type": "markdown",
   "metadata": {},
   "source": [
    "ConversationKGMemory는 대화를 지식 그래프(Knowledge Graph) 형태로 저장하는 메모리 시스템입니다.\n",
    "\n",
    "1. 주요 특징\n",
    "\n",
    "- 대화의 엔티티와 관계를 추출하여 저장\n",
    "- 대화 내용을 구조화된 형태로 관리\n",
    "- 관련 정보를 쉽게 검색하고 참조 가능\n",
    "\n",
    "2. 작동 방식\n",
    "- 이 메모리 타입은 대화에서 중요한 정보를 추출하여 연결된 그래프(Knowledge Graph - KG) 형태로 저장하므로, 복잡한 대화의 맥락을 더 효과적으로 추적할 수 있습니다."
   ]
  },
  {
   "cell_type": "markdown",
   "metadata": {},
   "source": [
    "#### 엔티티(Entity)란?\n",
    "\n",
    "엔티티는 대화나 텍스트에서 의미 있는 핵심 개체나 대상을 의미합니다.\n",
    "\n",
    "1. 엔티티의 종류\n",
    "\n",
    "- 사람 (예: 철수, 영희)\n",
    "- 조직/기관 (예: 서울대학교, 삼성전자)\n",
    "- 장소 (예: 서울, 부산)\n",
    "- 제품 (예: 아이폰15, 갤럭시S23)\n",
    "- 시간 (예: 2023년 9월, 어제)\n",
    "- 숫자/수량 (예: 100개, 1000원)\n",
    "\n",
    "2. 예시 문장과 엔티티 추출\n",
    "\n",
    "    \"철수는 서울대학교 컴퓨터공학과에 다니고 있어\"\n",
    "- 철수 (사람)\n",
    "- 서울대학교 (기관)\n",
    "- 컴퓨터공학과 (학과)\n",
    "\n",
    "3. ConversationKGMemory에서의 활용\n",
    "\n",
    "- ConversationKGMemory는 이러한 엔티티들을 추출하고, 엔티티들 간의 관계를 그래프 형태로 저장하여 대화의 맥락을 효과적으로 관리합니다."
   ]
  },
  {
   "cell_type": "code",
   "execution_count": 1,
   "metadata": {},
   "outputs": [],
   "source": [
    "from langchain.memory import ConversationKGMemory\n",
    "from langchain.chat_models import ChatOpenAI\n",
    "\n",
    "llm = ChatOpenAI(temperature=0.1)\n",
    "\n",
    "memory = ConversationKGMemory(\n",
    "    llm=llm,\n",
    "    return_messages=True,\n",
    ")\n",
    "\n",
    "def add_message(input, output):\n",
    "    memory.save_context({\"input\":input}, {\"output\":output})\n",
    "\n",
    "add_message(\"Hi I'm Nicolas, I live in South Korea\", \"Wow that is so cool!\")"
   ]
  },
  {
   "cell_type": "code",
   "execution_count": null,
   "metadata": {},
   "outputs": [
    {
     "data": {
      "text/plain": [
       "{'history': [SystemMessage(content='On Nicolas: Nicolas lives in South Korea.')]}"
      ]
     },
     "execution_count": 3,
     "metadata": {},
     "output_type": "execute_result"
    }
   ],
   "source": [
    "memory.load_memory_variables({\"input\": \"who is Nicolas\"}) \n",
    "# 여기서 input값은 AI에게 물어보고 싶은 질문이나 프롬프트이다."
   ]
  },
  {
   "cell_type": "code",
   "execution_count": 4,
   "metadata": {},
   "outputs": [],
   "source": [
    "add_message(\"Nicolas likes kimchi\", \"Wow that is so cool!\")"
   ]
  },
  {
   "cell_type": "code",
   "execution_count": 5,
   "metadata": {},
   "outputs": [
    {
     "data": {
      "text/plain": [
       "{'history': [SystemMessage(content='On Nicolas: Nicolas lives in South Korea. Nicolas likes kimchi.')]}"
      ]
     },
     "execution_count": 5,
     "metadata": {},
     "output_type": "execute_result"
    }
   ],
   "source": [
    "memory.load_memory_variables({\"input\": \"What does Nicolas like?\"})"
   ]
  }
 ],
 "metadata": {
  "kernelspec": {
   "display_name": "env",
   "language": "python",
   "name": "python3"
  },
  "language_info": {
   "codemirror_mode": {
    "name": "ipython",
    "version": 3
   },
   "file_extension": ".py",
   "mimetype": "text/x-python",
   "name": "python",
   "nbconvert_exporter": "python",
   "pygments_lexer": "ipython3",
   "version": "3.11.11"
  }
 },
 "nbformat": 4,
 "nbformat_minor": 2
}
