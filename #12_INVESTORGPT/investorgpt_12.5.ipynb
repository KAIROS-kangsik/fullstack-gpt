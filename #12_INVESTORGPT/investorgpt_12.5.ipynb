{
 "cells": [
  {
   "cell_type": "markdown",
   "metadata": {},
   "source": [
    "# 12.5 Search Tool"
   ]
  },
  {
   "cell_type": "code",
   "execution_count": 2,
   "metadata": {},
   "outputs": [
    {
     "name": "stdout",
     "output_type": "stream",
     "text": [
      "\n",
      "\n",
      "\u001b[1m> Entering new AgentExecutor chain...\u001b[0m\n",
      "\u001b[32;1m\u001b[1;3m\n",
      "Invoking: `StockMarketSymbolSearchTool` with `{'query': 'Cloudflare'}`\n",
      "\n",
      "\n",
      "\u001b[0m\u001b[36;1m\u001b[1;3mHelping civil society monitor cyber attacks with the CyberPeaceTracer and Cloudflare Email Security . 2025-02-17. We're proud to collaborate with CyberPeace Institute by powering its latest initiative, the CyberPeace Tracer, a platform that enables civil society organizations to proactively report cyber threats.... San Francisco, CA, November 7, 2024 — Cloudflare, Inc. (NYSE: NET), the leading connectivity cloud company, today announced financial results for its third quarter ended September 30, 2024. \"I am pleased with our results for the third quarter—exceeding expectations for revenue, operating margin, and free cash flow while also reaching a key ... At Cloudflare, we are constantly innovating and launching new features and capabilities across our product portfolio. Today's roundup blog post shares two exciting updates across our platform: our cross-platform 1.1.1.1 & WARP applications (consumer) and device agents (Zero Trust) now use MASQUE, a cutting-edge HTTP/3-based protocol, to secure your Internet connection. Cloudflare retains the right (but not the obligation) to block content from its Distributed Web Gateway that Cloudflare determines (in its sole discretion) to be illegal, harmful, or in violation of these Terms. For these purposes, illegal or harmful content includes but is not limited to: (a) content containing, promoting, or facilitating ... Cloudflare, Inc. (NYSE: NET) is the leading connectivity cloud company on a mission to help build a better Internet. It empowers organizations to make their employees, applications and networks faster and more secure everywhere, while reducing complexity and cost. Cloudflare's connectivity cloud delivers the most full-featured, unified ...\u001b[0m\u001b[32;1m\u001b[1;3mCloudflare's stock symbol is NET. Now, let's analyze if Cloudflare's stock is a potential good investment.\n",
      "\n",
      "To determine if Cloudflare's stock is a good investment, we can consider the following factors:\n",
      "\n",
      "1. **Financial Performance**: Look at Cloudflare's revenue growth, profitability, and cash flow. Analyze their financial statements to understand their financial health.\n",
      "\n",
      "2. **Market Position**: Evaluate Cloudflare's position in the market and their competitive advantage. Consider their market share and growth potential.\n",
      "\n",
      "3. **Industry Trends**: Understand the trends in the cloud computing and cybersecurity industry. Evaluate how Cloudflare is positioned to benefit from these trends.\n",
      "\n",
      "4. **Management Team**: Assess the leadership and management team at Cloudflare. Look at their experience and track record.\n",
      "\n",
      "5. **Risk Factors**: Consider any potential risks that could impact Cloudflare's stock performance, such as competition, regulatory changes, or cybersecurity threats.\n",
      "\n",
      "It's important to conduct thorough research and analysis before making any investment decisions. If you'd like, I can help you gather more information on Cloudflare's financial performance and market position. Let me know if you'd like to proceed.\u001b[0m\n",
      "\n",
      "\u001b[1m> Finished chain.\u001b[0m\n"
     ]
    },
    {
     "data": {
      "text/plain": [
       "{'input': \"Give me information on Cloudflare's stock and help me analyze if it's a potential good investment. Also tell me what symbol does the stock have.\",\n",
       " 'output': \"Cloudflare's stock symbol is NET. Now, let's analyze if Cloudflare's stock is a potential good investment.\\n\\nTo determine if Cloudflare's stock is a good investment, we can consider the following factors:\\n\\n1. **Financial Performance**: Look at Cloudflare's revenue growth, profitability, and cash flow. Analyze their financial statements to understand their financial health.\\n\\n2. **Market Position**: Evaluate Cloudflare's position in the market and their competitive advantage. Consider their market share and growth potential.\\n\\n3. **Industry Trends**: Understand the trends in the cloud computing and cybersecurity industry. Evaluate how Cloudflare is positioned to benefit from these trends.\\n\\n4. **Management Team**: Assess the leadership and management team at Cloudflare. Look at their experience and track record.\\n\\n5. **Risk Factors**: Consider any potential risks that could impact Cloudflare's stock performance, such as competition, regulatory changes, or cybersecurity threats.\\n\\nIt's important to conduct thorough research and analysis before making any investment decisions. If you'd like, I can help you gather more information on Cloudflare's financial performance and market position. Let me know if you'd like to proceed.\"}"
      ]
     },
     "execution_count": 2,
     "metadata": {},
     "output_type": "execute_result"
    }
   ],
   "source": [
    "from langchain.agents import initialize_agent, AgentType\n",
    "from langchain.tools import BaseTool\n",
    "from pydantic import BaseModel, Field\n",
    "from typing import Any, Type \n",
    "from langchain.chat_models import ChatOpenAI\n",
    "from langchain.utilities import DuckDuckGoSearchAPIWrapper\n",
    "# from langchain.tools import DuckDuckGoSearchResults\n",
    "\n",
    "llm = ChatOpenAI(temperature=0.1)\n",
    "\n",
    "class StockMarketSymbolSearchToolArgsSchema(BaseModel):\n",
    "    query: str = Field(description=\"The query you will search for\")\n",
    "\n",
    "class StockMarketSymbolSearchTool(BaseTool):\n",
    "    name=\"StockMarketSymbolSearchTool\"\n",
    "    description=\"\"\"\n",
    "    Use this tool to find the stock market symbol for a company.\n",
    "    It takes a query as an argument.\n",
    "    Example query: Stock Market Symbol for Apple Company\n",
    "    \"\"\"\n",
    "    args_schema: Type[StockMarketSymbolSearchToolArgsSchema] = StockMarketSymbolSearchToolArgsSchema\n",
    "\n",
    "    def _run(self, query):\n",
    "        ddg = DuckDuckGoSearchAPIWrapper()\n",
    "        # ddg = DuckDuckGoSearchResults()\n",
    "        return ddg.run(query)\n",
    "\n",
    "\n",
    "\n",
    "agent = initialize_agent(\n",
    "    llm=llm,\n",
    "    agent=AgentType.OPENAI_FUNCTIONS,\n",
    "    handle_parsing_errors=True,\n",
    "    verbose=True,\n",
    "    tools=[\n",
    "        StockMarketSymbolSearchTool(),\n",
    "    ],\n",
    ")\n",
    "\n",
    "prompt = \"Give me information on Cloudflare's stock and help me analyze if it's a potential good investment. Also tell me what symbol does the stock have.\"\n",
    "\n",
    "agent.invoke(prompt)\n"
   ]
  }
 ],
 "metadata": {
  "kernelspec": {
   "display_name": "env",
   "language": "python",
   "name": "python3"
  },
  "language_info": {
   "codemirror_mode": {
    "name": "ipython",
    "version": 3
   },
   "file_extension": ".py",
   "mimetype": "text/x-python",
   "name": "python",
   "nbconvert_exporter": "python",
   "pygments_lexer": "ipython3",
   "version": "3.11.11"
  }
 },
 "nbformat": 4,
 "nbformat_minor": 2
}
