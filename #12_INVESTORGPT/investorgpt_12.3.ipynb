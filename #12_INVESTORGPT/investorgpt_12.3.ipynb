{
 "cells": [
  {
   "cell_type": "markdown",
   "metadata": {},
   "source": [
    "# 12.3 Zero-shot ReAct Agent"
   ]
  },
  {
   "cell_type": "markdown",
   "metadata": {},
   "source": [
    "agent에는 다양한 유형이 있지만, 우리가 살펴볼 건 Zero-shot ReAct와 OpenAI Function agent이다.  \n",
    "여러 개의 input 툴들을 사용할 수 있는 Structured input ReAct는 이미 이전에 살펴봤었고, 이제 우리는 Zero-shot ReAct, OpenAI Function agent를 살펴볼 것이다. 왜냐하면 이게 LLM으로부터 출력 값을 강요하는(Function Calling) 것보다 훨씬 나은 함수를 호출하는 방식을 사용하고 있기 때문이다.<br>\n",
    "이렇게 되면 우리는 걱정되고 있던 agent가 고장나는 것에 대한 위험을 줄일 수 있을것이다.\n",
    "\n",
    "우선 Zero-shot ReAct를 살펴보자. 이게 가장 범용적인 목적의 agent이기 때문이다.  \n",
    "만약 Function Calling을 지원하지 않는 모델(gpt3, gpt4, ollama등을 제외한 모델이 함수 호출을 지원하지 않는다.)을 사용한다면, Zero-shot ReAct가 이러한 모델과 같이 사용하게 될 Agent Type이다.  \n",
    "\n",
    "그렇다면 이전에 배웠던 Structured input ReAct와 Zero-shot ReAct가 다른점은 무엇일까?  \n",
    "Structured Input은 여러 입력을 가질 수 있지만 Zero-shot은 그렇지 않다는 점이다. Zero-shot을 사용하는 우리의 툴들은 여러 입력값을 가질 수 없다. 즉, 여러개의 argument를 받을 수 없다는 뜻이다.\n",
    "\n",
    "이제 실습을 해서 Zero-shot ReAct를 사용해보자.\n",
    "\n"
   ]
  },
  {
   "cell_type": "code",
   "execution_count": 5,
   "metadata": {},
   "outputs": [
    {
     "name": "stdout",
     "output_type": "stream",
     "text": [
      "\n",
      "\n",
      "\u001b[1m> Entering new AgentExecutor chain...\u001b[0m\n",
      "\u001b[32;1m\u001b[1;3mI need to add up all the given numbers to find the total cost.\n",
      "Action: Total Sum Calculator\n",
      "Action Input: 355.39,924.87\u001b[0m\n",
      "Observation: \u001b[36;1m\u001b[1;3m1280.26\u001b[0m\n",
      "Thought:\u001b[32;1m\u001b[1;3mI need to continue adding the remaining numbers to the total sum.\n",
      "Action: Total Sum Calculator\n",
      "Action Input: 1280.26,721.2\u001b[0m\n",
      "Observation: \u001b[36;1m\u001b[1;3m2001.46\u001b[0m\n",
      "Thought:\u001b[32;1m\u001b[1;3mI need to continue adding the remaining numbers to the total sum.\n",
      "Action: Total Sum Calculator\n",
      "Action Input: 2001.46,1940.29\u001b[0m\n",
      "Observation: \u001b[36;1m\u001b[1;3m3941.75\u001b[0m\n",
      "Thought:\u001b[32;1m\u001b[1;3mI need to continue adding the remaining numbers to the total sum.\n",
      "Action: Total Sum Calculator\n",
      "Action Input: 3941.75,573.63\u001b[0m\n",
      "Observation: \u001b[36;1m\u001b[1;3m4515.38\u001b[0m\n",
      "Thought:\u001b[32;1m\u001b[1;3mI need to continue adding the remaining numbers to the total sum.\n",
      "Action: Total Sum Calculator\n",
      "Action Input: 4515.38,65.72\u001b[0m\n",
      "Observation: \u001b[36;1m\u001b[1;3m4581.1\u001b[0m\n",
      "Thought:\u001b[32;1m\u001b[1;3mI need to continue adding the remaining numbers to the total sum.\n",
      "Action: Total Sum Calculator\n",
      "Action Input: 4581.1,35.00\u001b[0m\n",
      "Observation: \u001b[36;1m\u001b[1;3m4616.1\u001b[0m\n",
      "Thought:\u001b[32;1m\u001b[1;3mI need to continue adding the remaining numbers to the total sum.\n",
      "Action: Total Sum Calculator\n",
      "Action Input: 4616.1,552.00\u001b[0m\n",
      "Observation: \u001b[36;1m\u001b[1;3m5168.1\u001b[0m\n",
      "Thought:\u001b[32;1m\u001b[1;3mI need to continue adding the remaining numbers to the total sum.\n",
      "Action: Total Sum Calculator\n",
      "Action Input: 5168.1,76.16\u001b[0m\n",
      "Observation: \u001b[36;1m\u001b[1;3m5244.26\u001b[0m\n",
      "Thought:\u001b[32;1m\u001b[1;3mI need to add the final number to the total sum.\n",
      "Action: Total Sum Calculator\n",
      "Action Input: 5244.26,29.12\u001b[0m\n",
      "Observation: \u001b[36;1m\u001b[1;3m5273.38\u001b[0m\n",
      "Thought:\u001b[32;1m\u001b[1;3mI now know the final answer\n",
      "Final Answer: The total cost is $5273.38\u001b[0m\n",
      "\n",
      "\u001b[1m> Finished chain.\u001b[0m\n"
     ]
    },
    {
     "data": {
      "text/plain": [
       "{'input': 'Tell me Total Cost of $355.39 + $924.87 + $721.2 + $1940.29 + $573.63 + $65.72 + $35.00 + $552.00 + $76.16 + $29.12',\n",
       " 'output': 'The total cost is $5273.38'}"
      ]
     },
     "execution_count": 5,
     "metadata": {},
     "output_type": "execute_result"
    }
   ],
   "source": [
    "from langchain.agents import initialize_agent, AgentType\n",
    "from langchain.tools import StructuredTool, Tool\n",
    "from langchain.chat_models import ChatOpenAI\n",
    "\n",
    "llm = ChatOpenAI(temperature=0.1)\n",
    "\n",
    "def sum_all_numbers(inputs):\n",
    "    a,b = inputs.split(\",\")\n",
    "    return float(a) + float(b)\n",
    "\n",
    "agent = initialize_agent(\n",
    "    llm=llm,\n",
    "    agent=AgentType.ZERO_SHOT_REACT_DESCRIPTION,\n",
    "    handle_parsing_errors=True, # 이렇게 True를 하게 되면,\n",
    "    # LLM이 우리가 원하는 출력 형식으로 응답하지 않아서 output parser에 파싱 에러가 발생하면\n",
    "    # 이 LLM이 고쳐보려 하게된다.\n",
    "    verbose=True,\n",
    "    tools=[\n",
    "        Tool.from_function(\n",
    "            func=sum_all_numbers,\n",
    "            name=\"Total Sum Calculator\",\n",
    "            description=\"Use ths to perform sums of two numbers. Use this tool by sending a pair of number separated by a comma. Till finish.\\nExamples: 1,2\",\n",
    "        ),\n",
    "    ],\n",
    ")\n",
    "\n",
    "prompt = \"Tell me Total Cost of $355.39 + $924.87 + $721.2 + $1940.29 + $573.63 + $65.72 + $35.00 + $552.00 + $76.16 + $29.12\"\n",
    "\n",
    "agent.invoke(prompt)\n"
   ]
  },
  {
   "cell_type": "markdown",
   "metadata": {},
   "source": [
    "OpenAI Function agent에 대한 내용은 다음 파일에서 알아보자."
   ]
  }
 ],
 "metadata": {
  "kernelspec": {
   "display_name": "env",
   "language": "python",
   "name": "python3"
  },
  "language_info": {
   "codemirror_mode": {
    "name": "ipython",
    "version": 3
   },
   "file_extension": ".py",
   "mimetype": "text/x-python",
   "name": "python",
   "nbconvert_exporter": "python",
   "pygments_lexer": "ipython3",
   "version": "3.11.11"
  }
 },
 "nbformat": 4,
 "nbformat_minor": 2
}
