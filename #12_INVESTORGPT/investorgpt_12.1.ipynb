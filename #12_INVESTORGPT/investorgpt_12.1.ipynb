{
 "cells": [
  {
   "cell_type": "markdown",
   "metadata": {},
   "source": [
    "# 12.1 Your First Agent"
   ]
  },
  {
   "cell_type": "code",
   "execution_count": 6,
   "metadata": {},
   "outputs": [
    {
     "data": {
      "text/plain": [
       "AIMessage(content='The total cost is $4,293.38.')"
      ]
     },
     "execution_count": 6,
     "metadata": {},
     "output_type": "execute_result"
    }
   ],
   "source": [
    "from langchain.chat_models import ChatOpenAI\n",
    "\n",
    "llm = ChatOpenAI(temperature=0.1)\n",
    "\n",
    "prompt = \"Tell me Total Cost of $355.39 + $924.87 + $721.2 + $1940.29 + $573.63 + $65.72 + $35.00 + $552.00 + $76.16 + $29.12\"\n",
    "\n",
    "llm.invoke(prompt)"
   ]
  },
  {
   "cell_type": "markdown",
   "metadata": {},
   "source": [
    "위 계산을 하면 실제로 값은 $5273.38이 나온다. 그러나 지금 llm은 실수를 하고 있다. 즉, LLM이 틀렸다. 저건 진짜 Cost값이 아니다.\n",
    "\n",
    "분명히 LLM은 산수를 할 수 없다. 계산기에는 AI가 존재하지 않는다. 하지만 계산기가 이걸 더 잘 해낼 것이다. 왜냐하면 LLM은 모든 종류의 연산을 실행하는 그런게 아니다. LLM은 text를 완성하는 것이다. 그냥 다음 token은 무엇인지 통계적으로 추측하는 것이다.\n",
    "\n",
    "그래서 우리는 무엇을 해야할까? 이 error를 fix하기 위해 우리는 agent를 만들고, 또 agent를 위한 tool을 작성해줄 것이다. 따라서 agent는 이 계산을 수행하기 위해 tool을 선택할 것이다. 그냥 결과를 예측하다가 실수를 하는 대신 말이다."
   ]
  },
  {
   "cell_type": "code",
   "execution_count": 9,
   "metadata": {},
   "outputs": [
    {
     "name": "stdout",
     "output_type": "stream",
     "text": [
      "\n",
      "\n",
      "\u001b[1m> Entering new AgentExecutor chain...\u001b[0m\n",
      "\u001b[32;1m\u001b[1;3mThought: I can use the Total Sum Calculator tool to find the total cost of all the given amounts.\n",
      "\n",
      "Action:\n",
      "```\n",
      "{\n",
      "  \"action\": \"Total Sum Calculator\",\n",
      "  \"action_input\": {\"a\": 355.39, \"b\": 924.87}\n",
      "}\n",
      "```\n",
      "\n",
      "\u001b[0m\n",
      "Observation: \u001b[36;1m\u001b[1;3m1280.26\u001b[0m\n",
      "Thought:\u001b[32;1m\u001b[1;3mI have calculated the sum of the first two amounts correctly. Now, I will continue to calculate the sum of the remaining amounts to find the total cost.\n",
      "Action:\n",
      "```\n",
      "{\n",
      "  \"action\": \"Total Sum Calculator\",\n",
      "  \"action_input\": {\"a\": 1280.26, \"b\": 721.2}\n",
      "}\n",
      "```\u001b[0m\n",
      "Observation: \u001b[36;1m\u001b[1;3m2001.46\u001b[0m\n",
      "Thought:\u001b[32;1m\u001b[1;3mI have calculated the sum of the first three amounts correctly. Now, I will continue to calculate the sum of the remaining amounts to find the total cost.\n",
      "\n",
      "Action:\n",
      "```\n",
      "{\n",
      "  \"action\": \"Total Sum Calculator\",\n",
      "  \"action_input\": {\"a\": 2001.46, \"b\": 1940.29}\n",
      "}\n",
      "```\u001b[0m\n",
      "Observation: \u001b[36;1m\u001b[1;3m3941.75\u001b[0m\n",
      "Thought:\u001b[32;1m\u001b[1;3mI have calculated the sum of the first four amounts correctly. Now, I will continue to calculate the sum of the remaining amounts to find the total cost.\n",
      "\n",
      "Action:\n",
      "```\n",
      "{\n",
      "  \"action\": \"Total Sum Calculator\",\n",
      "  \"action_input\": {\"a\": 3941.75, \"b\": 573.63}\n",
      "}\n",
      "```\u001b[0m\n",
      "Observation: \u001b[36;1m\u001b[1;3m4515.38\u001b[0m\n",
      "Thought:\u001b[32;1m\u001b[1;3mI have calculated the sum of the first five amounts correctly. Now, I will continue to calculate the sum of the remaining amounts to find the total cost.\n",
      "\n",
      "Action:\n",
      "```\n",
      "{\n",
      "  \"action\": \"Total Sum Calculator\",\n",
      "  \"action_input\": {\"a\": 4515.38, \"b\": 65.72}\n",
      "}\n",
      "```\u001b[0m\n",
      "Observation: \u001b[36;1m\u001b[1;3m4581.1\u001b[0m\n",
      "Thought:\u001b[32;1m\u001b[1;3mI have calculated the sum of the first six amounts correctly. Now, I will continue to calculate the sum of the remaining amounts to find the total cost.\n",
      "\n",
      "Action:\n",
      "```\n",
      "{\n",
      "  \"action\": \"Total Sum Calculator\",\n",
      "  \"action_input\": {\"a\": 4581.1, \"b\": 35.00}\n",
      "}\n",
      "```\u001b[0m\n",
      "Observation: \u001b[36;1m\u001b[1;3m4616.1\u001b[0m\n",
      "Thought:\u001b[32;1m\u001b[1;3mI have calculated the sum of all the given amounts correctly. Now, I will provide the final total cost.\n",
      "\n",
      "Action:\n",
      "```\n",
      "{\n",
      "  \"action\": \"Total Sum Calculator\",\n",
      "  \"action_input\": {\"a\": 4616.1, \"b\": 552.00}\n",
      "}\n",
      "```\u001b[0m\n",
      "Observation: \u001b[36;1m\u001b[1;3m5168.1\u001b[0m\n",
      "Thought:\u001b[32;1m\u001b[1;3m```\n",
      "{\n",
      "  \"action\": \"Total Sum Calculator\",\n",
      "  \"action_input\": {\"a\": 5168.1, \"b\": 76.16}\n",
      "}\n",
      "```\u001b[0m\n",
      "Observation: \u001b[36;1m\u001b[1;3m5244.26\u001b[0m\n",
      "Thought:\u001b[32;1m\u001b[1;3m```\n",
      "{\n",
      "  \"action\": \"Total Sum Calculator\",\n",
      "  \"action_input\": {\"a\": 5244.26, \"b\": 29.12}\n",
      "}\n",
      "```\u001b[0m\n",
      "Observation: \u001b[36;1m\u001b[1;3m5273.38\u001b[0m\n",
      "Thought:\u001b[32;1m\u001b[1;3m```\n",
      "{\n",
      "  \"action\": \"Final Answer\",\n",
      "  \"action_input\": \"The total cost of $355.39 + $924.87 + $721.2 + $1940.29 + $573.63 + $65.72 + $35.00 + $552.00 + $76.16 + $29.12 is $5273.38.\"\n",
      "}\n",
      "```\u001b[0m\n",
      "\n",
      "\u001b[1m> Finished chain.\u001b[0m\n"
     ]
    },
    {
     "data": {
      "text/plain": [
       "{'input': 'Tell me Total Cost of $355.39 + $924.87 + $721.2 + $1940.29 + $573.63 + $65.72 + $35.00 + $552.00 + $76.16 + $29.12',\n",
       " 'output': 'The total cost of $355.39 + $924.87 + $721.2 + $1940.29 + $573.63 + $65.72 + $35.00 + $552.00 + $76.16 + $29.12 is $5273.38.'}"
      ]
     },
     "execution_count": 9,
     "metadata": {},
     "output_type": "execute_result"
    }
   ],
   "source": [
    "from langchain.agents import initialize_agent, AgentType\n",
    "from langchain.tools import StructuredTool\n",
    "# 우리 agent가 실제로 사용할 수 있는 tool로 변환하기 위한 클래스\n",
    "# 이 StructuredTool은 우리의 tool이 여러개의 input(arguments)를 가질때 사용한다.\n",
    "# 실제 이 코드에서 plus라는 함수는 두개의 argument를 받는다.\n",
    "# 참고로 이전에 오래된 version의 langchain에서는 단 하나의 input만 가질 수 있었다.\n",
    "\n",
    "def sum_all_numbers(a, b):\n",
    "    return a + b\n",
    "\n",
    "agent = initialize_agent(\n",
    "    llm=llm,\n",
    "    agent=AgentType.STRUCTURED_CHAT_ZERO_SHOT_REACT_DESCRIPTION,\n",
    "    # 어떤 종류의 agent로 initialize(초기화)할지 정하기 위한 코드\n",
    "    # 여기서 \"STRUCTURED_CHAT_ZERO_SHOT_REACT_DESCRIPTION\"는 여러개의 input을 가진 tool들을 invoke할 수 있다는 뜻이다.\n",
    "    # 이름을 풀어보면, STRUCTURED라는 뜻은 tool이 한개보다 많은 input을 가질 수 있다는 의미이다.\n",
    "    # 그리고 CHAT이라고 쓰여진 이유는 Chat Model을 위해 최적화된 agent라는 뜻이다.\n",
    "    # ZERO SHOT REACT라는 뜻은 특정 type의 agent라는 뜻이다. 나중에 살펴 볼 것이다.\n",
    "    \n",
    "    verbose=True,\n",
    "    # 우리에게 agent가 하는 작업의 모든 과정 및 추론을 보여주기 위한 코드 줄.\n",
    "\n",
    "    tools=[\n",
    "        StructuredTool.from_function(\n",
    "            func=sum_all_numbers, \n",
    "            # 우리가 어떤 함수를 tool로 사용할 건지를 전달해줘야 한다. 이때 함수명만 전달해주면 된다.\n",
    "            # 함수 호출이나 문자열로 전달하면 안된다.\n",
    "\n",
    "            name=\"Total Sum Calculator\", # 이 tool에게 이름을 부여하기 위해 작성함\n",
    "\n",
    "            description=\"Use ths to perform sums of two numbers. This tool take two arguments, both should be numbers. Till finish.\",\n",
    "            # 이제 이 함수를 설명해주는 description을 작성한다.\n",
    "            # 함수가 어떤 역할을 하는지, 어떨때 이 tool을 사용해야 하는지를 LLM에게 설명하기 위함이다.\n",
    "        ),\n",
    "    ],\n",
    ")\n",
    "\n",
    "agent.invoke(prompt)\n"
   ]
  },
  {
   "cell_type": "markdown",
   "metadata": {},
   "source": [
    "코드의 설명과 이 agent가 어떻게 수행되고 작동되는지는 다음에 설명"
   ]
  }
 ],
 "metadata": {
  "kernelspec": {
   "display_name": "env",
   "language": "python",
   "name": "python3"
  },
  "language_info": {
   "codemirror_mode": {
    "name": "ipython",
    "version": 3
   },
   "file_extension": ".py",
   "mimetype": "text/x-python",
   "name": "python",
   "nbconvert_exporter": "python",
   "pygments_lexer": "ipython3",
   "version": "3.11.11"
  }
 },
 "nbformat": 4,
 "nbformat_minor": 2
}
